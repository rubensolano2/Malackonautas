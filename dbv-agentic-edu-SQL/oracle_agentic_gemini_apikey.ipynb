{
 "cells": [
  {
   "cell_type": "markdown",
   "metadata": {},
   "source": [
    "# 🧠 IA + Oracle: Hola mundo con Gemini API Key\n",
    "\n",
    "Este notebook muestra cómo conectar una base de datos Oracle y generar consultas SQL desde lenguaje natural usando el modelo Gemini de Google vía su librería oficial `google.generativeai`.\n",
    "\n",
    "🔑 Solo necesitas una clave API (`GOOGLE_API_KEY`).  \n",
    "❌ No se requiere `project_id`, `region` ni cuenta de servicio.\n",
    "\n",
    "Ideal para prototipos rápidos y prácticas educativas."
   ]
  },
  {
   "cell_type": "markdown",
   "metadata": {},
   "source": [
    "## 🔍 Comparativa: Vertex AI vs Gemini API Key\n",
    "\n",
    "| Característica              | Vertex AI (AISuite)         | Gemini API Key (`google.generativeai`) |\n",
    "|----------------------------|-----------------------------|----------------------------------------|\n",
    "| Requiere `project_id`      | ✅ Sí                        | ❌ No                                   |\n",
    "| Requiere `region`          | ✅ Sí                        | ❌ No                                   |\n",
    "| Requiere cuenta de servicio| ✅ Sí                        | ❌ No                                   |\n",
    "| Ideal para producción      | ✅                           | 🔸 Solo para prototipos y pruebas       |\n",
    "| Simplicidad de uso         | 🔸 Más compleja              | ✅ Muy sencilla                         |"
   ]
  },
  {
   "cell_type": "code",
   "execution_count": null,
   "metadata": {},
   "outputs": [],
   "source": [
    "# 🔐 Configurar Gemini con API Key\n",
    "from dotenv import load_dotenv\n",
    "import os\n",
    "import google.generativeai as genai\n",
    "\n",
    "load_dotenv()\n",
    "GOOGLE_API_KEY = os.getenv(\"GOOGLE_API_KEY\")\n",
    "\n",
    "genai.configure(api_key=GOOGLE_API_KEY)\n",
    "model = genai.GenerativeModel(\"gemini-2.5-flash\")"
   ]
  },
  {
   "cell_type": "code",
   "execution_count": null,
   "metadata": {},
   "outputs": [],
   "source": [
    "# 🔗 Conexión a Oracle\n",
    "import oracledb\n",
    "\n",
    "ORACLE_HOST = os.getenv(\"ORACLE_HOST\")\n",
    "ORACLE_PORT = os.getenv(\"ORACLE_PORT\")\n",
    "ORACLE_SID = os.getenv(\"ORACLE_SID\")\n",
    "ORACLE_USER = os.getenv(\"ORACLE_USER\")\n",
    "ORACLE_PASSWORD = os.getenv(\"ORACLE_PASSWORD\")\n",
    "\n",
    "dsn = oracledb.makedsn(ORACLE_HOST, ORACLE_PORT, sid=ORACLE_SID)\n",
    "connection = oracledb.connect(user=ORACLE_USER, password=ORACLE_PASSWORD, dsn=dsn)\n",
    "cursor = connection.cursor()\n",
    "\n",
    "cursor.execute(\"SELECT USER FROM dual\")\n",
    "print(\"Conectado como:\", cursor.fetchone()[0])"
   ]
  },
  {
   "cell_type": "code",
   "execution_count": null,
   "metadata": {},
   "outputs": [],
   "source": [
    "# 🗂️ Descubrimiento del esquema\n",
    "cursor.execute(f\"\"\"\n",
    "    SELECT table_name, column_name\n",
    "    FROM all_tab_columns\n",
    "    WHERE owner = UPPER('{ORACLE_USER}')\n",
    "    ORDER BY table_name, column_id\n",
    "\"\"\")\n",
    "\n",
    "esquema = {}\n",
    "for table, column in cursor:\n",
    "    esquema.setdefault(table, []).append(column)\n",
    "\n",
    "print(\"Esquema de la base de datos:\")\n",
    "for tabla, columnas in esquema.items():\n",
    "    print(f\"{tabla}({', '.join(columnas)})\")"
   ]
  },
  {
   "cell_type": "code",
   "execution_count": null,
   "metadata": {},
   "outputs": [],
   "source": [
    "# 🧠 Pregunta en lenguaje natural\n",
    "pregunta = \"¿Qué productos compró Ana Gamez y cuánto costaron?\""
   ]
  },
  {
   "cell_type": "code",
   "execution_count": null,
   "metadata": {},
   "outputs": [],
   "source": [
    "# 🤖 Generación de SQL con Gemini\n",
    "esquema_texto = \"\\n\".join(\n",
    "    f\"{tabla}({', '.join(columnas)})\" for tabla, columnas in esquema.items()\n",
    ")\n",
    "\n",
    "prompt_sql = f\"\"\"\n",
    "Eres un asistente experto en SQL para Oracle. Genera solo la consulta SQL compatible con Oracle.\n",
    "Usa este esquema de base de datos:\n",
    "{esquema_texto}\n",
    "\n",
    "Pregunta del usuario:\n",
    "{pregunta}\n",
    "\"\"\"\n",
    "\n",
    "raw_sql = model.generate_content(prompt_sql)\n",
    "sql_generado = raw_sql.text.strip().strip(\"```sql\").strip(\"```\")\n",
    "sql_generado = sql_generado.replace(\";\", \"\")  # Elimina el punto y coma si está presente\n",
    "#eliminar saltos de línea y tabulaciones pues dan error en Oracle\n",
    "sql_generado = sql_generado.replace(\"\\n\", \" \").replace(\"\\t\", \" \")\n",
    "\n",
    "\n",
    "print(\"Consulta generada por IA:\")\n",
    "print(sql_generado)"
   ]
  },
  {
   "cell_type": "code",
   "execution_count": null,
   "metadata": {},
   "outputs": [],
   "source": [
    "# 🧪 Ejecutar SQL y mostrar resultados\n",
    "cursor.execute(sql_generado)\n",
    "resultados = cursor.fetchall()\n",
    "columnas = [col[0] for col in cursor.description]\n",
    "\n",
    "import pandas as pd\n",
    "df = pd.DataFrame(resultados, columns=columnas)\n",
    "texto_resultado = df.to_markdown(index=False)\n",
    "df.head()"
   ]
  },
  {
   "cell_type": "code",
   "execution_count": null,
   "metadata": {},
   "outputs": [],
   "source": [
    "# 🧠 Interpretación con Gemini\n",
    "prompt_explicacion = f\"\"\"\n",
    "Eres un experto en análisis de datos. Resume e interpreta los resultados de una consulta SQL.\n",
    "La pregunta original fue: {pregunta}\n",
    "Los resultados fueron:\n",
    "\n",
    "{texto_resultado}\n",
    "\"\"\"\n",
    "\n",
    "response = model.generate_content(prompt_explicacion)\n",
    "print(\"🧠 Respuesta interpretada por IA:\")\n",
    "print(response.text.strip())"
   ]
  },
  {
   "cell_type": "markdown",
   "metadata": {},
   "source": [
    "## 🧠 Reflexión\n",
    "\n",
    "- ¿Qué ventajas tiene usar Gemini con API Key?\n",
    "- ¿Qué limitaciones presenta frente a Vertex AI?\n",
    "- ¿Cómo podrías extender este flujo para validar o visualizar los resultados?\n",
    "\n",
    "Este notebook es ideal para prácticas rápidas, pero recuerda que para entornos profesionales, Vertex AI ofrece mayor control y seguridad."
   ]
  }
 ],
 "metadata": {
  "kernelspec": {
   "display_name": ".venv",
   "language": "python",
   "name": "python3"
  },
  "language_info": {
   "codemirror_mode": {
    "name": "ipython",
    "version": 3
   },
   "file_extension": ".py",
   "mimetype": "text/x-python",
   "name": "python",
   "nbconvert_exporter": "python",
   "pygments_lexer": "ipython3",
   "version": "3.13.3"
  }
 },
 "nbformat": 4,
 "nbformat_minor": 2
}
