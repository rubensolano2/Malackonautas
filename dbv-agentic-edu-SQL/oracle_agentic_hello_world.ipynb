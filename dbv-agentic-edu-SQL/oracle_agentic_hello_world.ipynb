{
 "cells": [
  {
   "cell_type": "markdown",
   "metadata": {},
   "source": [
    "### 🧠 IA + Oracle: Hola mundo agentic\n",
    "Este notebook guía a los alumnos en una práctica básica para conectar con una base de datos Oracle, generar consultas SQL desde lenguaje natural usando distintos agentes vía [AISuite](https://github.com/andrewyng/aisuite/), y ejecutar esas consultas de forma segura.\n",
    "\n",
    "El objetivo es que a partir de una consulta en lenguaje natural, un primer agente genere el código sql asociado a esa consulta del usuario. Después se consultará la base de datos y se obtendrá el resultado en formato tabular que se mostrará al usuario. Esa información se enviará a otro agente que interpretará el resultado y se lo explicará al usuario. \n",
    "\n",
    "En el fichero Readme.md se explica la configuración necesaria para que este jupiter notebook funcione correctamente."
   ]
  },
  {
   "cell_type": "markdown",
   "metadata": {},
   "source": [
    "### 🔄 Flujo del Sistema Agéntico\n",
    "\n",
    "![Diagrama del Sistema Agéntico](images/diagramaagentic1-notrans.png)\n",
    "\n",
    "Este diagrama muestra el flujo completo del sistema de agentes que conecta la inteligencia artificial con la Base de Datos Oracle para procesar consultas en lenguaje natural.\n",
    "\n",
    "El primer paso será cargar las variables de entorno que están guardadas en el fichero .env donde se debe guardar la información de:\n",
    "- Conexión a la base de datos Oracle ORACLE_HOST, ORACLE_PORT, ORACLE_SID, ORACLE_USER, ORACLE_PASSWORD\n",
    "- Dependiendo de la IA que se vaya a utilizar se necesitará:\n",
    "    - OpenAI- OPENAI_API_KEY\n",
    "    - Anthropic - ANTHROPIC_API_KEY\n",
    "    - Google - GOOGLE_PROJECT_ID, GOOGLE_REGION, GOOGLE_APPLICATION_CREDENTIALS\n"
   ]
  },
  {
   "cell_type": "code",
   "execution_count": null,
   "metadata": {},
   "outputs": [],
   "source": [
    "# 🔐 Cargar variables de entorno\n",
    "from dotenv import load_dotenv\n",
    "import os\n",
    "\n",
    "load_dotenv()\n",
    "# muestra las variables de entorno cargadas (opcional)\n",
    "# for key, value in os.environ.items():\n",
    "#     if key in [\"ORACLE_HOST\", \"ORACLE_PORT\", \"ORACLE_SID\", \"ORACLE_USER\", \"ORACLE_PASSWORD\", \"GOOGLE_PROJECT_ID\", \"GOOGLE_REGION\", \"GOOGLE_APPLICATION_CREDENTIALS\", \"OPENAI_API_KEY\"]:\n",
    "#         print(f\"{key}: {value}\")\n",
    "print(\"Variables de entorno cargadas.\")        \n",
    "\n",
    "ORACLE_HOST = os.getenv(\"ORACLE_HOST\")\n",
    "ORACLE_PORT = os.getenv(\"ORACLE_PORT\")\n",
    "ORACLE_SID = os.getenv(\"ORACLE_SID\")\n",
    "ORACLE_USER = os.getenv(\"ORACLE_USER\")\n",
    "ORACLE_PASSWORD = os.getenv(\"ORACLE_PASSWORD\")\n",
    "# GOOGLE API KEY no funciona con AISuite. Solo funciona con Google Vertex AI\n",
    "# OPENAI_API_KEY = os.getenv(\"OPENAI_API_KEY\")\n",
    "# GOOGLE_PROJECT_ID, GOOGLE_REGION, GOOGLE_APPLICATION_CREDENTIALS\n",
    "GOOGLE_PROJECT_ID = os.getenv(\"GOOGLE_PROJECT_ID\")\n",
    "GOOGLE_REGION = os.getenv(\"GOOGLE_REGION\")\n",
    "GOOGLE_APPLICATION_CREDENTIALS = os.getenv(\"GOOGLE_APPLICATION_CREDENTIALS\")"
   ]
  },
  {
   "cell_type": "code",
   "execution_count": null,
   "metadata": {},
   "outputs": [],
   "source": [
    "# 🔗 Conexión a Oracle\n",
    "import oracledb\n",
    "\n",
    "# Creación de la cadena de conexión (DSN)\n",
    "dsn = oracledb.makedsn(ORACLE_HOST, ORACLE_PORT, sid=ORACLE_SID)\n",
    "# Conexión a la base de datos Oracle\n",
    "connection = oracledb.connect(\n",
    "    user=ORACLE_USER,\n",
    "    password=ORACLE_PASSWORD,\n",
    "    dsn=dsn\n",
    ")\n",
    "# Verificar la conexión ejecutando una consulta simple\n",
    "cursor = connection.cursor()\n",
    "cursor.execute(\"SELECT * FROM Dual\")\n",
    "for row in cursor:\n",
    "    print(row)"
   ]
  },
  {
   "cell_type": "markdown",
   "metadata": {},
   "source": [
    "La estructura de base de datos de ejemplo es muy sencilla. Se muestra el diagrama entidad relación.\n",
    "![Modelo ER](images/ERBDPEDIDOS.png)"
   ]
  },
  {
   "cell_type": "code",
   "execution_count": null,
   "metadata": {},
   "outputs": [],
   "source": [
    "# 🧠 Entrada en lenguaje natural. Algunos ejemplos para la base de datos\n",
    "# de clientes productos y pedidos.\n",
    "pregunta = \"¿Cuántos pedidos se hicieron en octubre?\"\n",
    "pregunta = \"Selecciona todos los pedidos\"\n",
    "pregunta = \"Cuantos  y qué pedidos hizo Ana Gamez\"\n",
    "pregunta = \"Quiero saber los productos que ha comprado Ana Gamez y lo que le costó cada uno\"\n",
    "\n"
   ]
  },
  {
   "cell_type": "markdown",
   "metadata": {},
   "source": [
    "Es importante pasarle a los agentes la estructura de la base de datos. Para que las consultas que generen tengan sentido. Eso se hace en el siguiente bloque usando un sistema de descubrimiento."
   ]
  },
  {
   "cell_type": "code",
   "execution_count": null,
   "metadata": {},
   "outputs": [],
   "source": [
    "# 🗂️ Obtener esquema de la base de datos\n",
    "# genera Consulta para obtener tablas y columnas del usuario actual debes seleccionar el \n",
    "#usuario actual\n",
    "cursor.execute(f\"\"\"\n",
    "    SELECT table_name, column_name\n",
    "    FROM all_tab_columns\n",
    "    WHERE owner = UPPER('{ORACLE_USER}')\n",
    "    ORDER BY table_name, column_id\n",
    "\"\"\")\n",
    "\n",
    "esquema = {}\n",
    "for table, column in cursor:\n",
    "    esquema.setdefault(table, []).append(column)\n",
    "print(\"Esquema de la base de datos:\")\n",
    "print(esquema)\n",
    "\n",
    "# Alternativa más simple pero menos profesional es indicar el esquema a mano\n",
    "#esquema = \"\"\"\n",
    "#Tablas disponibles:\n",
    "#- clientes(id_cliente, nombre, email, ciudad)\n",
    "#- productos(id_producto, nombre, precio, categoria)\n",
    "#- pedidos(id_pedido, id_cliente, id_producto, fecha_pedido, cantidad)\n",
    "#\"\"\"\n",
    "\n",
    "\n"
   ]
  },
  {
   "cell_type": "code",
   "execution_count": null,
   "metadata": {},
   "outputs": [],
   "source": [
    "# 🤖 Generación de SQL con Gemini|OpenAI|Anthropic vía AISuite\n",
    "import aisuite as ai\n",
    "\n",
    "client = ai.Client()\n",
    "\n",
    "\n",
    "messages = [\n",
    "    {\"role\": \"system\", \"content\": f\"Eres un asistente experto en SQL para Oracle. Genera solo la consulta SQL compatible con Oracle.Usa este esquema:\\n{esquema}\"},\n",
    "    {\"role\": \"user\", \"content\": pregunta}\n",
    "   \n",
    "]\n",
    "\n",
    "\n",
    "#Seleccionar el modelo que se desee usar. \n",
    "response = client.chat.completions.create(\n",
    "    #model=\"openai:gpt-3.5-turbo\",  # o \"anthropic:claude-2\" si usas Anthropic\n",
    "    model=\"google:gemini-2.0-flash-001\",\n",
    "    messages=messages\n",
    ")\n",
    "\n",
    "\n",
    "# Extrae y muestra el SQL (eliminando el formato Markdown que aparece en openAI)\n",
    "raw_sql = response.choices[0].message.content.strip()\n",
    "if raw_sql.startswith(\"```sql\"):\n",
    "# Elimina la primera línea (```sql) y la última (```)\n",
    "    sql_generado = \"\\n\".join(raw_sql.split(\"\\n\")[1:-1]).strip()\n",
    "else:\n",
    "    sql_generado = raw_sql\n",
    "print(\"Consulta generada por IA:\")\n",
    "sql_generado = sql_generado.replace(\";\", \"\")  # Elimina el punto y coma si está presente\n",
    "#eliminar saltos de línea y tabulaciones pues dan error en Oracle\n",
    "sql_generado = sql_generado.replace(\"\\n\", \" \").replace(\"\\t\", \" \")\n",
    "print(sql_generado)"
   ]
  },
  {
   "cell_type": "code",
   "execution_count": null,
   "metadata": {},
   "outputs": [],
   "source": [
    "# 🧪 Ejecución del SQL\n",
    "try:\n",
    "    #sql_generado = \"Select * from pedidos\" # para probar directamente\n",
    "    cursor.execute(sql_generado)\n",
    "    resultados = cursor.fetchall()\n",
    "    print(\"Resultados de la consulta:\")\n",
    "    for fila in resultados:\n",
    "        print(fila)\n",
    "except Exception as e:\n",
    "    print(\"Error al ejecutar la consulta:\", e)"
   ]
  },
  {
   "cell_type": "code",
   "execution_count": null,
   "metadata": {},
   "outputs": [],
   "source": [
    "# 📊 Visualización en formato tabular\n",
    "import pandas as pd\n",
    "\n",
    "columnas = [col[0] for col in cursor.description]\n",
    "df = pd.DataFrame(resultados, columns=columnas)\n",
    "#para pasarselo a la IA y que lo interprete en el siguiente paso\n",
    "texto_resultado = df.to_markdown(index=False)\n",
    "df.head()"
   ]
  },
  {
   "cell_type": "markdown",
   "metadata": {},
   "source": [
    "Aqui se crea el segundo Agente que puede ser con el mismo o diferente proveedor y será el encargado de coger el resultado de la consulta y analizarlo y explicarselo al usuario."
   ]
  },
  {
   "cell_type": "code",
   "execution_count": null,
   "metadata": {},
   "outputs": [],
   "source": [
    "messages = [\n",
    "    {\"role\": \"system\", \"content\": f\"Eres un experto en análisis de datos. Resume e interpreta los resultados de una consulta SQL realizada sobre este esquema: {esquema}\"},\n",
    "    {\"role\": \"user\", \"content\": f\"La consulta fue: {pregunta}\\n\\nY los resultados fueron:\\n\\n{texto_resultado}\"}\n",
    "]\n",
    "\n",
    "response = client.chat.completions.create(\n",
    "    model=\"openai:gpt-4o\",  # o el modelo que prefieras\n",
    "    messages=messages\n",
    ")\n",
    "\n",
    "respuesta_final = response.choices[0].message.content.strip()\n",
    "print(\"🧠 Respuesta interpretada por IA:\")\n",
    "print(respuesta_final)"
   ]
  },
  {
   "cell_type": "markdown",
   "metadata": {},
   "source": [
    "### 🧠 Reflexión\n",
    "- ¿Qué otras preguntas podrías hacer?\n",
    "- ¿Cómo podrías validar que el SQL generado es seguro?\n",
    "- ¿Qué diferencias hay entre usar Gemini y otros modelos?\n",
    "\n",
    "### 🔄 Extensión\n",
    "- Cambia el modelo a `openai:gpt-4o` o `anthropic:claude-3-sonnet`\n",
    "- Añade un agente que valide que la consulta generada por el primero es correcta.\n",
    "- Haz que el agente planifique varios pasos (consulta + visualización)"
   ]
  }
 ],
 "metadata": {
  "kernelspec": {
   "display_name": ".venv",
   "language": "python",
   "name": "python3"
  },
  "language_info": {
   "codemirror_mode": {
    "name": "ipython",
    "version": 3
   },
   "file_extension": ".py",
   "mimetype": "text/x-python",
   "name": "python",
   "nbconvert_exporter": "python",
   "pygments_lexer": "ipython3",
   "version": "3.13.3"
  }
 },
 "nbformat": 4,
 "nbformat_minor": 2
}
